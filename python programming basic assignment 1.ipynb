{
 "cells": [
  {
   "cell_type": "markdown",
   "metadata": {},
   "source": [
    "**1. Write a Python program to print \"Hello Python\"?**"
   ]
  },
  {
   "cell_type": "code",
   "execution_count": 19,
   "metadata": {},
   "outputs": [
    {
     "name": "stdout",
     "output_type": "stream",
     "text": [
      "hello python\n"
     ]
    }
   ],
   "source": [
    "def fun1():\n",
    "    return 'hello python'\n",
    "print(fun1())"
   ]
  },
  {
   "cell_type": "markdown",
   "metadata": {},
   "source": [
    "**2. Write a Python program to do arithmetical operations addition and division.?**"
   ]
  },
  {
   "cell_type": "code",
   "execution_count": 2,
   "metadata": {},
   "outputs": [
    {
     "name": "stdout",
     "output_type": "stream",
     "text": [
      "Enter 1st number: 5.2\n",
      "Enter 2nd number: 25.2\n",
      "Addition of 5.2 and 25.2 is: 30.4\n",
      "Division of 5.2 and 25.2 is: 0.20634920634920637\n"
     ]
    }
   ],
   "source": [
    "def add_div1(a,b):\n",
    "    return a+b, a/b\n",
    "\n",
    "a = float(input('Enter 1st number: '))\n",
    "b = float(input('Enter 2nd number: '))\n",
    "\n",
    "ans1, ans2 = add_div1(a,b)\n",
    "print('Addition of', a, 'and', b, 'is:', ans1)\n",
    "print('Division of', a, 'and', b, 'is:', ans2)"
   ]
  },
  {
   "cell_type": "markdown",
   "metadata": {},
   "source": [
    "**3. Write a Python program to find the area of a triangle?**"
   ]
  },
  {
   "cell_type": "code",
   "execution_count": 22,
   "metadata": {},
   "outputs": [
    {
     "name": "stdout",
     "output_type": "stream",
     "text": [
      "Enter 1st side: 5\n",
      "Enter 2nd side: 6\n",
      "Enter 3rd side: 7\n",
      "Area of triangle is: 108.0\n"
     ]
    }
   ],
   "source": [
    "def areatri(x,y,z):\n",
    "    s = (x+y+z)/2\n",
    "    area = (s*(s-x)*(s-y)*(s-z))*0.5\n",
    "    if area > 0:\n",
    "        return area\n",
    "    else:\n",
    "        raise Exception('Invalid Triangle')\n",
    "        \n",
    "a = int(input('Enter 1st side: '))\n",
    "b = int(input('Enter 2nd side: '))\n",
    "c = int(input('Enter 3rd side: '))\n",
    "print('Area of triangle is:', areatri(a,b,c))"
   ]
  },
  {
   "cell_type": "markdown",
   "metadata": {},
   "source": [
    "**4. Write a Python program to swap two variables?**"
   ]
  },
  {
   "cell_type": "code",
   "execution_count": 23,
   "metadata": {},
   "outputs": [
    {
     "name": "stdout",
     "output_type": "stream",
     "text": [
      "kunal 5\n"
     ]
    }
   ],
   "source": [
    "x = 5\n",
    "y = 'kunal'\n",
    "temp = x\n",
    "x = y\n",
    "y = temp\n",
    "print(x,y)"
   ]
  },
  {
   "cell_type": "markdown",
   "metadata": {},
   "source": [
    "**5. Write a Python program to generate a random number?**"
   ]
  },
  {
   "cell_type": "code",
   "execution_count": 24,
   "metadata": {},
   "outputs": [
    {
     "name": "stdout",
     "output_type": "stream",
     "text": [
      "45\n"
     ]
    }
   ],
   "source": [
    "import numpy as np\n",
    "print(np.random.randint(0,56))"
   ]
  }
 ],
 "metadata": {
  "kernelspec": {
   "display_name": "Python 3",
   "language": "python",
   "name": "python3"
  },
  "language_info": {
   "codemirror_mode": {
    "name": "ipython",
    "version": 3
   },
   "file_extension": ".py",
   "mimetype": "text/x-python",
   "name": "python",
   "nbconvert_exporter": "python",
   "pygments_lexer": "ipython3",
   "version": "3.7.6"
  }
 },
 "nbformat": 4,
 "nbformat_minor": 4
}
